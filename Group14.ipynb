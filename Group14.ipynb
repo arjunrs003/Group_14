{
 "cells": [
  {
   "cell_type": "markdown",
   "metadata": {},
   "source": [
    "## 1. Complete the following code to find the area of an equilateral triangle. Output should be as displayed"
   ]
  },
  {
   "cell_type": "code",
   "execution_count": 10,
   "metadata": {},
   "outputs": [
    {
     "name": "stdout",
     "output_type": "stream",
     "text": [
      "Enter the side of the equilateral triangle: 5\n",
      "10.83\n"
     ]
    }
   ],
   "source": [
    "import math\n",
    "side = float(input(\"Enter the side of the equilateral triangle: \"))\n",
    "area = ((math.sqrt(3))/4)*pow(side,2)\n",
    "print(round(area,2))\n"
   ]
  },
  {
   "cell_type": "markdown",
   "metadata": {},
   "source": [
    "## 2. Write a program to count the number of each characters in a string"
   ]
  },
  {
   "cell_type": "code",
   "execution_count": 1,
   "metadata": {},
   "outputs": [
    {
     "name": "stdout",
     "output_type": "stream",
     "text": [
      "Enter string: Himalayan\n",
      "Count of each characters \n",
      " {'H': 1, 'i': 1, 'm': 1, 'a': 3, 'l': 1, 'y': 1, 'n': 1}\n"
     ]
    }
   ],
   "source": [
    "input_string= input('Enter string: ')\n",
    "freq={}\n",
    "for i in input_string:\n",
    "    if i in freq:\n",
    "        freq[i]+=1\n",
    "    else:\n",
    "        freq[i]=1\n",
    "print('Count of each characters \\n', str(freq))"
   ]
  },
  {
   "cell_type": "markdown",
   "metadata": {},
   "source": [
    "## 3. Write a program to find the area and perimeter of a rectangle using functions"
   ]
  },
  {
   "cell_type": "code",
   "execution_count": 23,
   "metadata": {},
   "outputs": [
    {
     "name": "stdout",
     "output_type": "stream",
     "text": [
      "Enter the length of Rectangle \n",
      "2\n",
      "Enter the breadth of Reactangle \n",
      " 3\n",
      "Area of the rectangle =  6\n",
      "Perimeter of the rectangle = 10\n"
     ]
    }
   ],
   "source": [
    "def rectangle(l,b):\n",
    "    print(\"Area of the rectangle = \",l*b)\n",
    "    print(\"Perimeter of the rectangle =\",2*(l+b))\n",
    "l=int(input(\"Enter the length of Rectangle \\n\"))\n",
    "b=int(input(\"Enter the breadth of Reactangle \\n \"))\n",
    "rectangle(l,b)"
   ]
  },
  {
   "cell_type": "markdown",
   "metadata": {},
   "source": [
    "## 4. Write a program to print the fibonacci series till a specified number"
   ]
  },
  {
   "cell_type": "code",
   "execution_count": 3,
   "metadata": {},
   "outputs": [
    {
     "name": "stdout",
     "output_type": "stream",
     "text": [
      "Enter the number: 9\n",
      "0\n",
      "1\n",
      "1\n",
      "2\n",
      "3\n",
      "5\n",
      "8\n",
      "13\n",
      "21\n"
     ]
    }
   ],
   "source": [
    "def fib(number):\n",
    "    if number==0:\n",
    "        return 0\n",
    "    elif number==1:\n",
    "        return 1\n",
    "    else:\n",
    "        return fib(number-2)+ fib(number-1)\n",
    "number=int(input(\"Enter the number: \"))\n",
    "for i in range(number):\n",
    "    print( fib(i))\n"
   ]
  },
  {
   "cell_type": "markdown",
   "metadata": {},
   "source": [
    "## 5. Complete the following code to find the minimum of 3 number using conditional statements. Output should be as displayed"
   ]
  },
  {
   "cell_type": "code",
   "execution_count": 25,
   "metadata": {},
   "outputs": [
    {
     "name": "stdout",
     "output_type": "stream",
     "text": [
      "Enter three numbers followed by  : -5 -12 3\n",
      "First number : -5\n",
      "Second number : -12\n",
      "Third number : 3\n",
      "-12  is smallest\n"
     ]
    }
   ],
   "source": [
    "a,b,c = input(\"Enter three numbers followed by  : \").split()\n",
    "print(\"First number :\",a)\n",
    "print(\"Second number :\",b)\n",
    "print(\"Third number :\",c)\n",
    "if a==b==c:\n",
    "    print(\"Entered numbers are equal!!!\")\n",
    "elif(a<b) and (a<c):\n",
    "    print(a,\" is smallest\")\n",
    "elif(b<a) and (b<c):\n",
    "    print(b,\" is smallest\")\n",
    "else:\n",
    "    print(c,\" is smallest\")"
   ]
  },
  {
   "cell_type": "markdown",
   "metadata": {},
   "source": [
    "## 6. Write a program to print star pyramind. The number of rows should be taken as input from the user"
   ]
  },
  {
   "cell_type": "code",
   "execution_count": 2,
   "metadata": {},
   "outputs": [
    {
     "name": "stdout",
     "output_type": "stream",
     "text": [
      "Enter Number of Rows: 5\n",
      "Star Pyramid of 5\n",
      "     * \n",
      "    * * \n",
      "   * * * \n",
      "  * * * * \n",
      " * * * * * \n"
     ]
    }
   ],
   "source": [
    "row = int(input(\"Enter Number of Rows: \"))\n",
    "print(\"Star Pyramid of \" + str(row) )\n",
    "for i in range(row):\n",
    "    for s in range(row, i, -1):\n",
    "        print(end=\" \")\n",
    "    for j in range(i+1):\n",
    "        print(end=\"* \")\n",
    "    print()"
   ]
  },
  {
   "cell_type": "markdown",
   "metadata": {},
   "source": [
    "## 7. Complete the following code to convert hour into seconds. Output should be as displayed"
   ]
  },
  {
   "cell_type": "code",
   "execution_count": 19,
   "metadata": {},
   "outputs": [
    {
     "name": "stdout",
     "output_type": "stream",
     "text": [
      "Enter time in Hours :5\n",
      "5  Hour is equal to 18000  Seconds\n"
     ]
    }
   ],
   "source": [
    "def to_seconds(t):\n",
    "    t=t*3600\n",
    "    return t\n",
    "time_in_hours =int(input(\"Enter time in Hours :\"))\n",
    "print(time_in_hours ,\" Hour is equal to\" ,to_seconds(time_in_hours) ,\" Seconds\")"
   ]
  },
  {
   "cell_type": "markdown",
   "metadata": {},
   "source": [
    "## 8. Write a program to print multiplication table as below"
   ]
  },
  {
   "cell_type": "code",
   "execution_count": 15,
   "metadata": {},
   "outputs": [
    {
     "name": "stdout",
     "output_type": "stream",
     "text": [
      "Enter a number to print the multiplication table : 67\n",
      "1  x  67  =  67\n",
      "2  x  67  =  134\n",
      "3  x  67  =  201\n",
      "4  x  67  =  268\n",
      "5  x  67  =  335\n",
      "6  x  67  =  402\n",
      "7  x  67  =  469\n",
      "8  x  67  =  536\n",
      "9  x  67  =  603\n",
      "10  x  67  =  670\n"
     ]
    }
   ],
   "source": [
    "n=int(input(\"Enter a number to print the multiplication table : \"))\n",
    "for i in range(1,11):\n",
    "    print(i,\" x \",n,\" = \",i*n)"
   ]
  },
  {
   "cell_type": "markdown",
   "metadata": {},
   "source": [
    "## 9. Write a program to take your 5 favorite food as list and print each as 'I like Biriyani'"
   ]
  },
  {
   "cell_type": "code",
   "execution_count": 1,
   "metadata": {},
   "outputs": [
    {
     "name": "stdout",
     "output_type": "stream",
     "text": [
      "Enter the list of your 5 favourite food:Biriyani Mandhi Pizza Porotta Burger\n",
      "I LIKE Biriyani\n",
      "I LIKE Mandhi\n",
      "I LIKE Pizza\n",
      "I LIKE Porotta\n",
      "I LIKE Burger\n"
     ]
    }
   ],
   "source": [
    "L=input(\"Enter the list of your 5 favourite food:\").split()\n",
    "for i in range(0,5):\n",
    "    print('I LIKE',L[i])"
   ]
  },
  {
   "cell_type": "code",
   "execution_count": null,
   "metadata": {},
   "outputs": [],
   "source": []
  }
 ],
 "metadata": {
  "kernelspec": {
   "display_name": "Python 3",
   "language": "python",
   "name": "python3"
  },
  "language_info": {
   "codemirror_mode": {
    "name": "ipython",
    "version": 3
   },
   "file_extension": ".py",
   "mimetype": "text/x-python",
   "name": "python",
   "nbconvert_exporter": "python",
   "pygments_lexer": "ipython3",
   "version": "3.8.8"
  }
 },
 "nbformat": 4,
 "nbformat_minor": 4
}
